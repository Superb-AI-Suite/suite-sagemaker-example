{
 "cells": [
  {
   "cell_type": "code",
   "execution_count": null,
   "metadata": {},
   "outputs": [],
   "source": [
    "import boto3\n",
    "import sagemaker.pytorch\n",
    "from sagemaker import get_execution_role\n",
    "\n",
    "role = get_execution_role()\n",
    "\n",
    "pytorch_estimator = sagemaker.pytorch.estimator.PyTorch(\n",
    "    'suite_train.py',\n",
    "    sagemaker_session=sagemaker.session.Session(boto_session=boto3.Session(region_name='ap-northeast-2')),\n",
    "    instance_type='ml.g4dn.4xlarge',\n",
    "    instance_count=1,\n",
    "    framework_version='1.11.0',\n",
    "    py_version='py38',\n",
    "    source_dir='suite-detection',\n",
    "    role=role,\n",
    "    hyperparameters = {\n",
    "        'team-name': '\\\"YOUR TEAM NAME\\\"',\n",
    "        'access-key': '\\\"YOUR ACCESS KEY\\\"',\n",
    "        'project-name': '\\\"YOUR PROJECT NAME\\\"',\n",
    "        'train-export-name': '\\\"YOUR TRAIN EXPORT NAME\\\"',\n",
    "        'test-export-name': '\\\"YOUR TEST EXPORT NAME\\\"',\n",
    "        'batch-size': 8,\n",
    "        'workers': 16,\n",
    "        'lr': 0.01,\n",
    "        'caching-image': '',  # store_true option\n",
    "    },\n",
    ")\n",
    "\n",
    "pytorch_estimator.fit()"
   ]
  }
 ],
 "metadata": {
  "kernelspec": {
   "display_name": "Python 3.8.3 64-bit",
   "language": "python",
   "name": "python3"
  },
  "language_info": {
   "name": "python",
   "version": "3.8.3"
  },
  "orig_nbformat": 4,
  "vscode": {
   "interpreter": {
    "hash": "df0893f56f349688326838aaeea0de204df53a132722cbd565e54b24a8fec5f6"
   }
  }
 },
 "nbformat": 4,
 "nbformat_minor": 2
}
