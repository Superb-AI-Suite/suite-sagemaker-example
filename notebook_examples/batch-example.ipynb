{
 "cells": [
  {
   "cell_type": "code",
   "execution_count": null,
   "metadata": {},
   "outputs": [],
   "source": [
    "import boto3\n",
    "import sagemaker.pytorch\n",
    "\n",
    "# Access by job_name\n",
    "job_name = '<TRAINING_JOB_NAME>'\n",
    "pytorch_estimator = sagemaker.pytorch.estimator.PyTorch.attach(job_name, sagemaker_session=sagemaker.session.Session(boto_session=boto3.Session(region_name='ap-northeast-2')))\n",
    "\n",
    "pytorch_model = sagemaker.pytorch.model.PyTorchModel(\n",
    "    entry_point='batch_inference.py',\n",
    "    name='suite-pytorch-inference-batch',\n",
    "    model_data=pytorch_estimator.model_data,\n",
    "    role=pytorch_estimator.role,\n",
    "    framework_version=pytorch_estimator.framework_version,\n",
    "    py_version=pytorch_estimator.py_version,\n",
    ")\n",
    "\n",
    "predictor = pytorch_model.deploy(\n",
    "    instance_type='ml.g4dn.xlarge',\n",
    "    initial_instance_count=1,\n",
    ")"
   ]
  },
  {
   "cell_type": "code",
   "execution_count": null,
   "metadata": {},
   "outputs": [],
   "source": [
    "import json, boto3\n",
    "import sagemaker.pytorch\n",
    "\n",
    "\n",
    "def predict(endpoint_name, body, content_type):\n",
    "    client = boto3.client('sagemaker-runtime')\n",
    "    outputs = client.invoke_endpoint(\n",
    "        EndpointName=endpoint_name,\n",
    "        ContentType=content_type,\n",
    "        Accept='application/json',\n",
    "        Body=body,\n",
    "    )   \n",
    "    return json.load(outputs['Body'])\n",
    "\n",
    "\n",
    "req = {\n",
    "    'auth': {\n",
    "        'team_name': '<YOUR TEAM NAME>',\n",
    "        'access_key': '<YOUR ACCESS KEY>',\n",
    "        'project_name': '<YOUR PROJECT NAME>',\n",
    "    },\n",
    "    'label_ids': [\n",
    "        '<YOUR LABEL ID>'\n",
    "    ],\n",
    "}\n",
    "\n",
    "\n",
    "# Method 1\n",
    "\n",
    "# Access by endpoint_name\n",
    "endpoint_name = '<ENDPOINT_NAME>'\n",
    "predictor = sagemaker.pytorch.model.PyTorchPredictor(endpoint_name)\n",
    "\n",
    "predictor.serializer = sagemaker.serializers.JSONSerializer()\n",
    "predictor.deserializer = sagemaker.deserializers.JSONDeserializer()\n",
    "\n",
    "response = predictor.predict(req)\n",
    "print(response)\n",
    "\n",
    "\n",
    "# Method 2\n",
    "response = predict(endpoint_name, json.dumps(req), 'application/json')\n",
    "print(response)"
   ]
  },
  {
   "cell_type": "code",
   "execution_count": null,
   "metadata": {},
   "outputs": [],
   "source": []
  }
 ],
 "metadata": {
  "instance_type": "ml.t3.medium",
  "kernelspec": {
   "display_name": "Python 3 (Data Science)",
   "language": "python",
   "name": "python3__SAGEMAKER_INTERNAL__arn:aws:sagemaker:ap-northeast-2:806072073708:image/datascience-1.0"
  },
  "language_info": {
   "codemirror_mode": {
    "name": "ipython",
    "version": 3
   },
   "file_extension": ".py",
   "mimetype": "text/x-python",
   "name": "python",
   "nbconvert_exporter": "python",
   "pygments_lexer": "ipython3",
   "version": "3.7.10"
  },
  "vscode": {
   "interpreter": {
    "hash": "df0893f56f349688326838aaeea0de204df53a132722cbd565e54b24a8fec5f6"
   }
  }
 },
 "nbformat": 4,
 "nbformat_minor": 4
}
