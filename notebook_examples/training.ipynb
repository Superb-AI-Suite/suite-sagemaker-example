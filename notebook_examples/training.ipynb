{
 "cells": [
  {
   "cell_type": "code",
   "execution_count": null,
   "metadata": {},
   "outputs": [],
   "source": [
    "import boto3\n",
    "import sagemaker.pytorch\n",
    "\n",
    "pytorch_estimator = sagemaker.pytorch.estimator.PyTorch(\n",
    "    'train.py',\n",
    "    sagemaker_session=sagemaker.session.Session(boto_session=boto3.Session(region_name='ap-northeast-2')),\n",
    "    instance_type='ml.g4dn.4xlarge',\n",
    "    instance_count=1,\n",
    "    framework_version='1.11.0',\n",
    "    py_version='py38',\n",
    "    source_dir='../sagemaker_entry_points',\n",
    "    role=sagemaker.get_execution_role(),\n",
    "    hyperparameters = {\n",
    "        'team-name': '\\\"YOUR TEAM NAME\\\"',\n",
    "        'access-key': '\\\"YOUR ACCESS KEY\\\"',\n",
    "        'project-name': '\\\"YOUR PROJECT NAME\\\"',\n",
    "        'train-export-name': '\\\"YOUR TRAIN EXPORT NAME\\\"',\n",
    "        'test-export-name': '\\\"YOUR TEST EXPORT NAME\\\"',\n",
    "        'batch-size': 8,\n",
    "        'workers': 16,\n",
    "        'lr': 0.01,\n",
    "        'caching-image': '',  # store_true option\n",
    "    },\n",
    ")\n",
    "\n",
    "pytorch_estimator.fit()"
   ]
  },
  {
   "cell_type": "code",
   "execution_count": null,
   "metadata": {},
   "outputs": [],
   "source": []
  }
 ],
 "metadata": {
  "instance_type": "ml.t3.medium",
  "kernelspec": {
   "display_name": "Python 3 (Data Science)",
   "language": "python",
   "name": "python3__SAGEMAKER_INTERNAL__arn:aws:sagemaker:ap-northeast-2:806072073708:image/datascience-1.0"
  },
  "language_info": {
   "codemirror_mode": {
    "name": "ipython",
    "version": 3
   },
   "file_extension": ".py",
   "mimetype": "text/x-python",
   "name": "python",
   "nbconvert_exporter": "python",
   "pygments_lexer": "ipython3",
   "version": "3.7.10"
  },
  "vscode": {
   "interpreter": {
    "hash": "df0893f56f349688326838aaeea0de204df53a132722cbd565e54b24a8fec5f6"
   }
  }
 },
 "nbformat": 4,
 "nbformat_minor": 4
}
